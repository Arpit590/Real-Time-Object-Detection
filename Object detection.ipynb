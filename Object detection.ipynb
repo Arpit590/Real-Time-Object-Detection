{
 "cells": [
  {
   "cell_type": "markdown",
   "metadata": {},
   "source": [
    "# WHAT IS YOUR CARBON FOOTPRINT ?"
   ]
  },
  {
   "cell_type": "markdown",
   "metadata": {},
   "source": [
    "## 1. Importing necessary libraries"
   ]
  },
  {
   "cell_type": "code",
   "execution_count": 1,
   "metadata": {},
   "outputs": [],
   "source": [
    "import numpy as np #For data manipulation\n",
    "import cv2 # For video capture\n",
    "import time"
   ]
  },
  {
   "cell_type": "code",
   "execution_count": 2,
   "metadata": {},
   "outputs": [],
   "source": [
    "net = cv2.dnn.readNet(\"yolov3.weights\",\"yolov3.cfg\") # Reading weights and configuration files"
   ]
  },
  {
   "cell_type": "code",
   "execution_count": 3,
   "metadata": {},
   "outputs": [
    {
     "name": "stdout",
     "output_type": "stream",
     "text": [
      "['person', 'bicycle', 'car', 'motorbike', 'aeroplane', 'bus', 'train', 'truck', 'boat', 'traffic light', 'fire hydrant', 'stop sign', 'parking meter', 'bench', 'bird', 'cat', 'dog', 'horse', 'sheep', 'cow', 'elephant', 'bear', 'zebra', 'giraffe', 'backpack', 'umbrella', 'handbag', 'tie', 'suitcase', 'frisbee', 'skis', 'snowboard', 'sports ball', 'kite', 'baseball bat', 'baseball glove', 'skateboard', 'surfboard', 'tennis racket', 'bottle', 'wine glass', 'cup ', 'fork', 'knife', 'spoon', 'bowl', 'banana', 'tomato', 'sandwich', 'orange', 'broccoli', 'carrot', 'hot dog', 'pizza', 'donut', 'cake', 'chair', 'sofa', 'pottedplant', 'bed', 'diningtable', 'toilet', 'tvmonitor', 'laptop', 'mouse', 'remote', 'keyboard', 'cell phone', 'microwave', 'oven', 'toaster', 'sink', 'refrigerator', 'book ', 'clock', 'vase', 'scissors', 'teddy bear', 'hair drier', 'toothbrush']\n"
     ]
    }
   ],
   "source": [
    "classes=[] # To store name of objects \n",
    "with open(\"coco.names\", \"r\") as f:\n",
    "    classes = f.read().splitlines()\n",
    "\n",
    "print(classes)"
   ]
  },
  {
   "cell_type": "markdown",
   "metadata": {},
   "source": [
    "## 2. Video Capturing,detecting objects and storing the image captured by user after closing camera  "
   ]
  },
  {
   "cell_type": "code",
   "execution_count": 7,
   "metadata": {},
   "outputs": [
    {
     "name": "stdout",
     "output_type": "stream",
     "text": [
      "Number of frames encountered by user and fps: 12 and 0.27 respectively\n"
     ]
    }
   ],
   "source": [
    "Video = cv2.VideoCapture(0) # To video capture object for  camera\n",
    "a =1 # To provide no.of frames encontured by user until he closes the camera\n",
    "start_time = time.time()\n",
    "Cups = cv2.imread(\"cups1.png\")\n",
    "Cup = cv2.resize(Cups,(800,800))\n",
    "Tomatoes = cv2.imread(\"Tomatoes (1).jpg\")\n",
    "Tomato = cv2.resize(Tomatoes, (800,800))\n",
    "Books = cv2.imread(\"books.png\")\n",
    "Book = cv2.resize(Books, (800,800))\n",
    "Phones = cv2.imread(\"phone.png\")\n",
    "Phone = cv2.resize(Phones, (800,800))\n",
    "while True:\n",
    "    a =a+1\n",
    "    _, img = Video.read()\n",
    "    height, width,_ =img.shape\n",
    "    blob = cv2.dnn.blobFromImage(img,1/255,(416,416), (0,0,0),swapRB=True, crop=False) # To convert image to a blob\n",
    "    net.setInput(blob)\n",
    "    output_layers_names = net.getUnconnectedOutLayersNames()\n",
    "    layersOutputs = net.forward(output_layers_names)\n",
    "    \n",
    "    boxes = []\n",
    "    confidences =[]\n",
    "    class_ids =[]\n",
    "    for output in layersOutputs:\n",
    "        for detection in output:\n",
    "            scores = detection[5:] # Because first 4 values are of center x, center y, height and width\n",
    "            class_id = np.argmax(scores)\n",
    "            confidence= scores[class_id]\n",
    "            if confidence>0.5: # If confidence is less than 50% then discard that box\n",
    "                center_x = int(detection[0]*width)\n",
    "                center_y = int(detection[1]*height)\n",
    "                w = int(detection[2]*width)\n",
    "                h = int(detection[3]*height)\n",
    "                \n",
    "                x =int(center_x - w/2)\n",
    "                y = int(center_y-h/2)\n",
    "                boxes.append([x,y,w,h])\n",
    "                confidences.append((float(confidence)))\n",
    "                class_ids.append(class_id)\n",
    "    indexes = cv2.dnn.NMSBoxes(boxes, confidences, 0.5,0.3)\n",
    "    font = cv2.FONT_HERSHEY_PLAIN\n",
    "    colors = np.random.uniform(0,255, size=(len(boxes), 3))\n",
    "    if len(indexes)>0:\n",
    "        for i in indexes.flatten():\n",
    "            x,y,w,h = boxes[i]\n",
    "            label = str(classes[class_ids[i]])\n",
    "            confidence = str(round(confidences[i], 2)*100)\n",
    "            color = colors[i]\n",
    "            cv2.rectangle(img, (x,y), (x+w,y+h), color, 2)\n",
    "            cv2.putText(img, label+\" \"+ confidence+\"%\",(x,y+20), font, 1,(0,255,255), 2)\n",
    "            cv2.imshow(\"Object Detection\",img)\n",
    "        key = cv2.waitKey(1)\n",
    "        if key==ord(\"s\"):\n",
    "            cv2.imwrite(r\"C:\\Users\\dell\\Desktop\\ML BOOTCAMP\\real time objection detection\\img.png\",img)\n",
    "        if key==ord(\"c\"):\n",
    "            cv2.imshow(\"Cups\",Cup)\n",
    "        if key==ord(\"t\"):\n",
    "            cv2.imshow(\"Tomato\", Tomato)\n",
    "        if key==ord(\"b\"):\n",
    "            cv2.imshow(\"Books\", Book)\n",
    "        if key==ord(\"p\"):\n",
    "            cv2.imshow(\"Phone\", Phone)\n",
    "        if key==ord(\"q\"):\n",
    "            break\n",
    "elapsed_time = time.time() - start_time\n",
    "fps = a/elapsed_time\n",
    "print(\"Number of frames encountered by user and fps: {} and {} respectively\".format(a,np.round(fps,2)))\n",
    "\n",
    "Video.release()\n",
    "cv2.destroyAllWindows()"
   ]
  },
  {
   "cell_type": "code",
   "execution_count": null,
   "metadata": {},
   "outputs": [],
   "source": []
  }
 ],
 "metadata": {
  "kernelspec": {
   "display_name": "Python 3",
   "language": "python",
   "name": "python3"
  },
  "language_info": {
   "codemirror_mode": {
    "name": "ipython",
    "version": 3
   },
   "file_extension": ".py",
   "mimetype": "text/x-python",
   "name": "python",
   "nbconvert_exporter": "python",
   "pygments_lexer": "ipython3",
   "version": "3.8.3"
  }
 },
 "nbformat": 4,
 "nbformat_minor": 4
}
